{
 "cells": [
  {
   "cell_type": "code",
   "execution_count": 1,
   "id": "f0145862",
   "metadata": {},
   "outputs": [],
   "source": [
    "import numpy as np"
   ]
  },
  {
   "cell_type": "code",
   "execution_count": 2,
   "id": "a4bc686e",
   "metadata": {},
   "outputs": [
    {
     "name": "stdout",
     "output_type": "stream",
     "text": [
      "[[2. 0. 0.]\n",
      " [0. 2. 0.]\n",
      " [0. 0. 2.]]\n"
     ]
    }
   ],
   "source": [
    "# creating an array \n",
    "a = np.eye(3,3)\n",
    "b = np.eye(3,3)\n",
    "c = a + b \n",
    "print(c)"
   ]
  },
  {
   "cell_type": "code",
   "execution_count": 34,
   "id": "cd807af0",
   "metadata": {},
   "outputs": [
    {
     "name": "stdout",
     "output_type": "stream",
     "text": [
      "[[ 1  2  3  4]\n",
      " [ 5  6  7  8]\n",
      " [ 9 10 11 12]]\n"
     ]
    }
   ],
   "source": [
    "arr = np.array([[1,2,3,4,5],[5,6,7,8,13],[9,10,11,12,500]])\n",
    "print(arra)"
   ]
  },
  {
   "cell_type": "code",
   "execution_count": 25,
   "id": "a578e915-6c16-4a6e-aa2d-14e70ab84c50",
   "metadata": {},
   "outputs": [
    {
     "name": "stdout",
     "output_type": "stream",
     "text": [
      "[[ 2  3]\n",
      " [ 6  7]\n",
      " [10 11]]\n"
     ]
    }
   ],
   "source": [
    "print(arr[0:3,1:3])"
   ]
  },
  {
   "cell_type": "code",
   "execution_count": 35,
   "id": "75634d5c-8e9c-4eea-a288-55be588a5cb8",
   "metadata": {},
   "outputs": [
    {
     "name": "stdout",
     "output_type": "stream",
     "text": [
      "Mean: \n",
      " 39.733333333333334\n",
      "Median \n",
      " : 7.0\n",
      "Std: 123.06\n"
     ]
    }
   ],
   "source": [
    "mean = np.mean(arr)\n",
    "print(\"Mean: \\n\", mean)\n",
    "median = np.median(arr)\n",
    "print(\"Median \\n :\", median)\n",
    "std = np.std(arr)\n",
    "print(\"Std: {:.2f}\".format(std))"
   ]
  },
  {
   "cell_type": "code",
   "execution_count": 32,
   "id": "c96f5929-d9d4-4149-93a7-26b7b37a9649",
   "metadata": {},
   "outputs": [
    {
     "name": "stdout",
     "output_type": "stream",
     "text": [
      "Normalization : {:.2f} [[-1.59325501 -1.30357228 -1.01388955 -0.72420682]\n",
      " [-0.43452409 -0.14484136  0.14484136  0.43452409]\n",
      " [ 0.72420682  1.01388955  1.30357228  1.59325501]]\n"
     ]
    }
   ],
   "source": [
    "normalization = (arr - mean )/std\n",
    "print(\"Normalization : {:.2f}\", normalization)"
   ]
  },
  {
   "cell_type": "code",
   "execution_count": null,
   "id": "57f0e598-ef4c-4570-a3b1-a290570badc6",
   "metadata": {},
   "outputs": [],
   "source": []
  },
  {
   "cell_type": "code",
   "execution_count": null,
   "id": "ed62d65a",
   "metadata": {},
   "outputs": [],
   "source": []
  }
 ],
 "metadata": {
  "kernelspec": {
   "display_name": "base",
   "language": "python",
   "name": "python3"
  },
  "language_info": {
   "codemirror_mode": {
    "name": "ipython",
    "version": 3
   },
   "file_extension": ".py",
   "mimetype": "text/x-python",
   "name": "python",
   "nbconvert_exporter": "python",
   "pygments_lexer": "ipython3",
   "version": "3.12.9"
  }
 },
 "nbformat": 4,
 "nbformat_minor": 5
}

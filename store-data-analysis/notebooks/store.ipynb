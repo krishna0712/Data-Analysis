{
 "cells": [
  {
   "cell_type": "code",
   "execution_count": 6,
   "id": "ed037c13",
   "metadata": {},
   "outputs": [],
   "source": [
    "import pandas as pd \n",
    "import matplotlib.pyplot as plt \n",
    "import seaborn as sns\n",
    "import numpy as np"
   ]
  },
  {
   "cell_type": "code",
   "execution_count": null,
   "id": "ce563965",
   "metadata": {},
   "outputs": [],
   "source": []
  },
  {
   "cell_type": "code",
   "execution_count": 8,
   "id": "bd7b6374",
   "metadata": {},
   "outputs": [],
   "source": [
    "store = pd.read_csv(\"../data/superstore.csv\", encoding='latin1')"
   ]
  },
  {
   "cell_type": "code",
   "execution_count": 11,
   "id": "ef9b593a",
   "metadata": {},
   "outputs": [
    {
     "name": "stdout",
     "output_type": "stream",
     "text": [
      "<class 'pandas.core.frame.DataFrame'>\n",
      "RangeIndex: 9994 entries, 0 to 9993\n",
      "Data columns (total 21 columns):\n",
      "Row ID           9994 non-null int64\n",
      "Order ID         9994 non-null object\n",
      "Order Date       9994 non-null object\n",
      "Ship Date        9994 non-null object\n",
      "Ship Mode        9994 non-null object\n",
      "Customer ID      9994 non-null object\n",
      "Customer Name    9994 non-null object\n",
      "Segment          9994 non-null object\n",
      "Country          9994 non-null object\n",
      "City             9994 non-null object\n",
      "State            9994 non-null object\n",
      "Postal Code      9994 non-null int64\n",
      "Region           9994 non-null object\n",
      "Product ID       9994 non-null object\n",
      "Category         9994 non-null object\n",
      "Sub-Category     9994 non-null object\n",
      "Product Name     9994 non-null object\n",
      "Sales            9994 non-null float64\n",
      "Quantity         9994 non-null int64\n",
      "Discount         9994 non-null float64\n",
      "Profit           9994 non-null float64\n",
      "dtypes: float64(3), int64(3), object(15)\n",
      "memory usage: 1.6+ MB\n"
     ]
    }
   ],
   "source": [
    "store.info()"
   ]
  },
  {
   "cell_type": "code",
   "execution_count": null,
   "id": "1968dbda",
   "metadata": {},
   "outputs": [],
   "source": []
  }
 ],
 "metadata": {
  "kernelspec": {
   "display_name": "Python 3",
   "language": "python",
   "name": "python3"
  },
  "language_info": {
   "codemirror_mode": {
    "name": "ipython",
    "version": 3
   },
   "file_extension": ".py",
   "mimetype": "text/x-python",
   "name": "python",
   "nbconvert_exporter": "python",
   "pygments_lexer": "ipython3",
   "version": "3.7.4"
  }
 },
 "nbformat": 4,
 "nbformat_minor": 5
}
